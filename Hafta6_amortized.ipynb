{
 "cells": [
  {
   "cell_type": "code",
   "execution_count": 69,
   "metadata": {},
   "outputs": [
    {
     "name": "stdout",
     "output_type": "stream",
     "text": [
      "Requirement already satisfied: Pympler in c:\\users\\hakan\\anaconda3\\lib\\site-packages (0.9)\n"
     ]
    }
   ],
   "source": [
    "import ctypes\n",
    "! pip install Pympler --user"
   ]
  },
  {
   "cell_type": "code",
   "execution_count": 86,
   "metadata": {},
   "outputs": [],
   "source": [
    "class DynamicArray:\n",
    "    \n",
    "    def getsize(self):\n",
    "        import sys\n",
    "        try:\n",
    "            return sys.getsizeof(self._A)\n",
    "        except:\n",
    "            return 0 \n",
    "    def ToString(self):\n",
    "        try:\n",
    "            for i in self._A:\n",
    "                print(i,\" \")\n",
    "        except: \n",
    "            pass\n",
    "    def getLength(self):\n",
    "        return len(self._A)\n",
    "\n",
    "    def __init__(self):\n",
    "        self._n=0\n",
    "        self._capacity = 1\n",
    "        self._A = self._make_array(self._capacity)  \n",
    "\n",
    "    def _make_array(self, c):\n",
    "        return (c * ctypes.py_object)()\n",
    "    \n",
    "    def append(self, obj):\n",
    "        if self._n == self._capacity:\n",
    "            self._resize(2 * self._capacity)\n",
    "        self._A[self._n] = obj\n",
    "        self._n += 1 \n",
    "        \n",
    "    def _resize(self, c):\n",
    "        B = self._make_array(c)\n",
    "        for k in range (self._n):\n",
    "            B[k] = self._A[k]\n",
    "        self._A = B\n",
    "        self._capacity = c\n",
    "\n",
    "    def __len__(self):\n",
    "        return self._n\n",
    "\n",
    "    def __getitem__(self,k):\n",
    "        if not 0 <=k < self._n:\n",
    "            raise IndexError('invalid index')\n",
    "        return self._A[k]\n",
    "    \n",
    "    def insert(self, k, value):\n",
    "        if self._A == self._capacity:\n",
    "            self._resize(2*self._capacity)\n",
    "        for j in range (self._n , k , -1):\n",
    "            self._A[j] = self._A[j-1]\n",
    "        self._A[k] = value\n",
    "        self._n += 1\n",
    "\n",
    "    def remove(self,value):\n",
    "        for k in range(self._n):\n",
    "            if self._A[k] == value:\n",
    "                for j in range(k,self._n-1):\n",
    "                    self._A[j] = self._A[j+1]\n",
    "                self._A[self._n -1 ] = None\n",
    "                self._n -= 1\n",
    "                return \n",
    "            raise ValueError('Value not found.')"
   ]
  },
  {
   "cell_type": "code",
   "execution_count": 87,
   "metadata": {},
   "outputs": [],
   "source": [
    "c = DynamicArray()"
   ]
  },
  {
   "cell_type": "code",
   "execution_count": 88,
   "metadata": {},
   "outputs": [
    {
     "name": "stdout",
     "output_type": "stream",
     "text": [
      "s_1 : 48, s_2 : 608\n"
     ]
    }
   ],
   "source": [
    "\n",
    "import sys\n",
    "from pympler import asizeof\n",
    "\n",
    "s_1=sys.getsizeof(c)\n",
    "s_2=asizeof.asizeof(c)\n",
    "print(\"s_1 : {0}, s_2 : {1}\".format(s_1,s_2))"
   ]
  },
  {
   "cell_type": "code",
   "execution_count": 89,
   "metadata": {},
   "outputs": [
    {
     "name": "stdout",
     "output_type": "stream",
     "text": [
      "s_1 : 48, s_2 : 616\n"
     ]
    }
   ],
   "source": [
    "n=100\n",
    "for i in range(n):\n",
    "    c.append(\"12\")\n",
    "    c.append(\"ssdfsdfdsf\")\n",
    "    \n",
    "s_1=sys.getsizeof(c)\n",
    "s_2=asizeof.asizeof(c)\n",
    "print(\"s_1 : {0}, s_2 : {1}\".format(s_1,s_2))\n",
    "    "
   ]
  },
  {
   "cell_type": "code",
   "execution_count": 90,
   "metadata": {},
   "outputs": [
    {
     "data": {
      "text/plain": [
       "(256, 120)"
      ]
     },
     "execution_count": 90,
     "metadata": {},
     "output_type": "execute_result"
    }
   ],
   "source": [
    "c.getLength(),c.getsize()"
   ]
  },
  {
   "cell_type": "code",
   "execution_count": 92,
   "metadata": {},
   "outputs": [
    {
     "data": {
      "text/plain": [
       "(512, 120)"
      ]
     },
     "execution_count": 92,
     "metadata": {},
     "output_type": "execute_result"
    }
   ],
   "source": [
    "for i in range(100):\n",
    "    c.append(\"12\")\n",
    "c.getLength(),c.getsize()"
   ]
  },
  {
   "cell_type": "code",
   "execution_count": 94,
   "metadata": {},
   "outputs": [
    {
     "data": {
      "text/plain": [
       "<__main__.py_object_Array_512 at 0x19f81524d40>"
      ]
     },
     "execution_count": 94,
     "metadata": {},
     "output_type": "execute_result"
    }
   ],
   "source": [
    "c._A"
   ]
  },
  {
   "cell_type": "code",
   "execution_count": null,
   "metadata": {},
   "outputs": [],
   "source": [
    "    "
   ]
  }
 ],
 "metadata": {
  "kernelspec": {
   "display_name": "Python 3",
   "language": "python",
   "name": "python3"
  },
  "language_info": {
   "codemirror_mode": {
    "name": "ipython",
    "version": 3
   },
   "file_extension": ".py",
   "mimetype": "text/x-python",
   "name": "python",
   "nbconvert_exporter": "python",
   "pygments_lexer": "ipython3",
   "version": "3.8.3"
  }
 },
 "nbformat": 4,
 "nbformat_minor": 4
}
